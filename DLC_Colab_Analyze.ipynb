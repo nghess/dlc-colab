{
  "nbformat": 4,
  "nbformat_minor": 0,
  "metadata": {
    "colab": {
      "provenance": [],
      "authorship_tag": "ABX9TyN7X3yRj+rH+FcEiam8PPmF"
    },
    "kernelspec": {
      "name": "python3",
      "display_name": "Python 3"
    },
    "language_info": {
      "name": "python"
    },
    "accelerator": "GPU"
  },
  "cells": [
    {
      "cell_type": "code",
      "execution_count": null,
      "metadata": {
        "id": "MBHDq7lvv-7t"
      },
      "outputs": [],
      "source": [
        "#Install the branch with tf2.x support:\n",
        "!pip install 'deeplabcut'==2.2.1\n",
        "!pip install tf_slim"
      ]
    },
    {
      "cell_type": "code",
      "source": [
        "#Now, let's link to your GoogleDrive. Run this cell and follow the authorization instructions:\n",
        "#(We recommend putting a copy of the github repo in your google drive if you are using the demo \"examples\")\n",
        "\n",
        "from google.colab import drive\n",
        "drive.mount('/content/drive')"
      ],
      "metadata": {
        "colab": {
          "base_uri": "https://localhost:8080/"
        },
        "id": "IyhZ66Zk1Moa",
        "outputId": "8898dbde-5213-40b2-cbab-452df74d485e"
      },
      "execution_count": null,
      "outputs": [
        {
          "output_type": "stream",
          "name": "stdout",
          "text": [
            "Mounted at /content/drive\n"
          ]
        }
      ]
    },
    {
      "cell_type": "code",
      "metadata": {
        "id": "vhENAlQnFENJ",
        "colab": {
          "base_uri": "https://localhost:8080/",
          "height": 35
        },
        "outputId": "db2a489c-c27c-4eda-b3af-50d031712546"
      },
      "source": [
        "#Setup your project variables:\n",
        "# PLEASE EDIT THESE:\n",
        "ProjectFolderName = 'dlc-colab/reese-data-test' \n",
        "VideoType = 'avi' \n",
        "\n",
        "#don't edit these:\n",
        "videofile_path = ['/content/drive/My Drive/'+ProjectFolderName+'/videos/'] #Enter the list of videos or folder to analyze.\n",
        "videofile_path\n",
        "\n",
        "#This creates a path variable that links to your google drive copy\n",
        "#No need to edit this, as you set it up before: \n",
        "path_config_file = '/content/drive/My Drive/'+ProjectFolderName+'/config.yaml'\n",
        "path_config_file"
      ],
      "execution_count": null,
      "outputs": [
        {
          "output_type": "execute_result",
          "data": {
            "text/plain": [
              "'/content/drive/My Drive/dlc-colab/reese-data-test/config.yaml'"
            ],
            "application/vnd.google.colaboratory.intrinsic+json": {
              "type": "string"
            }
          },
          "metadata": {},
          "execution_count": 6
        }
      ]
    },
    {
      "cell_type": "code",
      "source": [
        "import deeplabcut\n",
        "import tensorflow\n",
        "print(tensorflow.__version__)\n",
        "print(deeplabcut.__version__)"
      ],
      "metadata": {
        "colab": {
          "base_uri": "https://localhost:8080/"
        },
        "id": "cSc2HDQ21bfa",
        "outputId": "16b43c7b-285e-4125-d5ca-d1379b3a91da"
      },
      "execution_count": null,
      "outputs": [
        {
          "output_type": "stream",
          "name": "stdout",
          "text": [
            "DLC loaded in light mode; you cannot use any GUI (labeling, relabeling and standalone GUI)\n",
            "2.8.2\n",
            "2.2.1\n"
          ]
        }
      ]
    },
    {
      "cell_type": "code",
      "source": [
        "!nvidia-smi"
      ],
      "metadata": {
        "colab": {
          "base_uri": "https://localhost:8080/"
        },
        "id": "kl7G4u_QXLbe",
        "outputId": "ad76d9b7-a772-4aac-c3b9-c1c6abc7d86d"
      },
      "execution_count": null,
      "outputs": [
        {
          "output_type": "stream",
          "name": "stdout",
          "text": [
            "Tue May 31 08:16:00 2022       \n",
            "+-----------------------------------------------------------------------------+\n",
            "| NVIDIA-SMI 460.32.03    Driver Version: 460.32.03    CUDA Version: 11.2     |\n",
            "|-------------------------------+----------------------+----------------------+\n",
            "| GPU  Name        Persistence-M| Bus-Id        Disp.A | Volatile Uncorr. ECC |\n",
            "| Fan  Temp  Perf  Pwr:Usage/Cap|         Memory-Usage | GPU-Util  Compute M. |\n",
            "|                               |                      |               MIG M. |\n",
            "|===============================+======================+======================|\n",
            "|   0  Tesla P100-PCIE...  Off  | 00000000:00:04.0 Off |                    0 |\n",
            "| N/A   35C    P0    26W / 250W |      0MiB / 16280MiB |      0%      Default |\n",
            "|                               |                      |                  N/A |\n",
            "+-------------------------------+----------------------+----------------------+\n",
            "                                                                               \n",
            "+-----------------------------------------------------------------------------+\n",
            "| Processes:                                                                  |\n",
            "|  GPU   GI   CI        PID   Type   Process name                  GPU Memory |\n",
            "|        ID   ID                                                   Usage      |\n",
            "|=============================================================================|\n",
            "|  No running processes found                                                 |\n",
            "+-----------------------------------------------------------------------------+\n"
          ]
        }
      ]
    },
    {
      "cell_type": "markdown",
      "source": [
        "Create Training Dataset"
      ],
      "metadata": {
        "id": "w5s1qlnvBQ8n"
      }
    },
    {
      "cell_type": "code",
      "source": [
        "#Set the shuffle you want to create, train, evaluate, use for analysis, etc (1 is default):\n",
        "SHUF = 1"
      ],
      "metadata": {
        "id": "Dv1S_sRLBDtZ"
      },
      "execution_count": null,
      "outputs": []
    },
    {
      "cell_type": "code",
      "source": [
        "deeplabcut.create_training_dataset(path_config_file, net_type='resnet_50', augmenter_type='imgaug')"
      ],
      "metadata": {
        "colab": {
          "base_uri": "https://localhost:8080/"
        },
        "id": "xNYbEThdBFoP",
        "outputId": "5517f549-e342-44b8-d516-5bfc4f8f9937"
      },
      "execution_count": null,
      "outputs": [
        {
          "output_type": "stream",
          "name": "stdout",
          "text": [
            "Downloading a ImageNet-pretrained model from http://download.tensorflow.org/models/resnet_v1_50_2016_08_28.tar.gz....\n",
            "The training dataset is successfully created. Use the function 'train_network' to start training. Happy training!\n"
          ]
        },
        {
          "output_type": "execute_result",
          "data": {
            "text/plain": [
              "[(0.95,\n",
              "  1,\n",
              "  (array([ 54, 153,  63,  55, 122, 101,   7, 157, 130,  89, 139, 144,   5,\n",
              "           97, 165,  93,  33,  18,  61,  51,  66,  37,   4, 124,  60, 110,\n",
              "          125, 152, 111, 161,  26,  56, 136,  45,   8,  44,  80, 108,  98,\n",
              "          171,  24,  30,  92, 112, 156,  19, 134,  74, 146,  16, 104, 118,\n",
              "           40, 155,  22, 107, 158, 126,  71, 160, 113,  27, 116, 132,  96,\n",
              "          174,  86,  62,   2,  59,  94,  95,  43,  10,  83,  73, 168, 109,\n",
              "          143,  90, 138, 167,  50, 163, 159,  64, 121, 123,  69,  49,  48,\n",
              "           85,  13, 131,  23, 162,  20,  15,  78,  52, 100,  76,   3, 173,\n",
              "          106,   6,  68,  75,  84, 129,  12, 135, 149,  14,   0,  91, 150,\n",
              "           46,  11, 119, 102,  35,  57,  41, 170,  65,   1, 120, 141,  42,\n",
              "          105, 151,  17,  38, 133,  53, 137, 128,  34,  28, 114,  31, 145,\n",
              "          127, 154,  32, 142, 147,  29,  99,  82,  79, 115, 148, 169,  72,\n",
              "           77,  25,  81, 164, 166,  39,  58, 140,  88,  70]),\n",
              "   array([ 87,  36,  21,   9, 103,  67, 117,  47, 172])))]"
            ]
          },
          "metadata": {},
          "execution_count": 8
        }
      ]
    },
    {
      "cell_type": "markdown",
      "source": [
        "Train"
      ],
      "metadata": {
        "id": "K5hhcfk7BOdf"
      }
    },
    {
      "cell_type": "code",
      "source": [
        "#let's also change the display and save_iters just in case Colab takes away the GPU... \n",
        "#if that happens, you can reload from a saved point. Typically, you want to train to 200,000 + iterations.\n",
        "#more info and there are more things you can set: https://github.com/DeepLabCut/DeepLabCut/blob/master/docs/functionDetails.md#g-train-the-network\n",
        "\n",
        "deeplabcut.train_network(path_config_file, shuffle=SHUF, displayiters=10,saveiters=500, maxiters=500)\n"
      ],
      "metadata": {
        "id": "Ya0hV6SIBI1X",
        "colab": {
          "base_uri": "https://localhost:8080/"
        },
        "outputId": "31aca972-50e4-4f76-9740-2ffb6514ebdb"
      },
      "execution_count": null,
      "outputs": [
        {
          "output_type": "stream",
          "name": "stderr",
          "text": [
            "Config:\n",
            "{'all_joints': [[0], [1], [2]],\n",
            " 'all_joints_names': ['Nose', 'Head', 'Center of Mass'],\n",
            " 'alpha_r': 0.02,\n",
            " 'apply_prob': 0.5,\n",
            " 'batch_size': 1,\n",
            " 'clahe': True,\n",
            " 'claheratio': 0.1,\n",
            " 'crop_pad': 0,\n",
            " 'cropratio': 0.4,\n",
            " 'dataset': 'training-datasets/iteration-0/UnaugmentedDataSet_olfactory-searchDec9/olfactory-search_ReeseFindley95shuffle1.mat',\n",
            " 'dataset_type': 'imgaug',\n",
            " 'decay_steps': 30000,\n",
            " 'deterministic': False,\n",
            " 'display_iters': 1000,\n",
            " 'edge': False,\n",
            " 'emboss': {'alpha': [0.0, 1.0], 'embossratio': 0.1, 'strength': [0.5, 1.5]},\n",
            " 'fg_fraction': 0.25,\n",
            " 'global_scale': 0.8,\n",
            " 'histeq': True,\n",
            " 'histeqratio': 0.1,\n",
            " 'init_weights': '/usr/local/lib/python3.7/dist-packages/deeplabcut/pose_estimation_tensorflow/models/pretrained/resnet_v1_50.ckpt',\n",
            " 'intermediate_supervision': False,\n",
            " 'intermediate_supervision_layer': 12,\n",
            " 'location_refinement': True,\n",
            " 'locref_huber_loss': True,\n",
            " 'locref_loss_weight': 0.05,\n",
            " 'locref_stdev': 7.2801,\n",
            " 'log_dir': 'log',\n",
            " 'lr_init': 0.0005,\n",
            " 'max_input_size': 1500,\n",
            " 'mean_pixel': [123.68, 116.779, 103.939],\n",
            " 'metadataset': 'training-datasets/iteration-0/UnaugmentedDataSet_olfactory-searchDec9/Documentation_data-olfactory-search_95shuffle1.pickle',\n",
            " 'min_input_size': 64,\n",
            " 'mirror': False,\n",
            " 'multi_stage': False,\n",
            " 'multi_step': [[0.005, 10000],\n",
            "                [0.02, 430000],\n",
            "                [0.002, 730000],\n",
            "                [0.001, 1030000]],\n",
            " 'net_type': 'resnet_50',\n",
            " 'num_joints': 3,\n",
            " 'optimizer': 'sgd',\n",
            " 'pairwise_huber_loss': False,\n",
            " 'pairwise_predict': False,\n",
            " 'partaffinityfield_predict': False,\n",
            " 'pos_dist_thresh': 17,\n",
            " 'project_path': '/content/drive/My Drive/dlc-colab/reese-data-test',\n",
            " 'regularize': False,\n",
            " 'rotation': 25,\n",
            " 'rotratio': 0.4,\n",
            " 'save_iters': 50000,\n",
            " 'scale_jitter_lo': 0.5,\n",
            " 'scale_jitter_up': 1.25,\n",
            " 'scoremap_dir': 'test',\n",
            " 'sharpen': False,\n",
            " 'sharpenratio': 0.3,\n",
            " 'shuffle': True,\n",
            " 'snapshot_prefix': '/content/drive/My '\n",
            "                    'Drive/dlc-colab/reese-data-test/dlc-models/iteration-0/olfactory-searchDec9-trainset95shuffle1/train/snapshot',\n",
            " 'stride': 8.0,\n",
            " 'weigh_negatives': False,\n",
            " 'weigh_only_present_joints': False,\n",
            " 'weigh_part_predictions': False,\n",
            " 'weight_decay': 0.0001}\n"
          ]
        },
        {
          "output_type": "stream",
          "name": "stdout",
          "text": [
            "Selecting single-animal trainer\n",
            "Batch Size is 1\n"
          ]
        },
        {
          "output_type": "stream",
          "name": "stderr",
          "text": [
            "/usr/local/lib/python3.7/dist-packages/tensorflow/python/keras/engine/base_layer_v1.py:1694: UserWarning: `layer.apply` is deprecated and will be removed in a future version. Please use `layer.__call__` method instead.\n",
            "  warnings.warn('`layer.apply` is deprecated and '\n",
            "/usr/local/lib/python3.7/dist-packages/tf_slim/layers/layers.py:684: UserWarning: `layer.apply` is deprecated and will be removed in a future version. Please use `layer.__call__` method instead.\n",
            "  outputs = layer.apply(inputs, training=is_training)\n"
          ]
        },
        {
          "output_type": "stream",
          "name": "stdout",
          "text": [
            "Loading ImageNet-pretrained resnet_50\n",
            "Max_iters overwritten as 500\n",
            "Display_iters overwritten as 10\n",
            "Save_iters overwritten as 500\n",
            "Training parameter:\n",
            "{'stride': 8.0, 'weigh_part_predictions': False, 'weigh_negatives': False, 'fg_fraction': 0.25, 'mean_pixel': [123.68, 116.779, 103.939], 'shuffle': True, 'snapshot_prefix': '/content/drive/My Drive/dlc-colab/reese-data-test/dlc-models/iteration-0/olfactory-searchDec9-trainset95shuffle1/train/snapshot', 'log_dir': 'log', 'global_scale': 0.8, 'location_refinement': True, 'locref_stdev': 7.2801, 'locref_loss_weight': 0.05, 'locref_huber_loss': True, 'optimizer': 'sgd', 'intermediate_supervision': False, 'intermediate_supervision_layer': 12, 'regularize': False, 'weight_decay': 0.0001, 'crop_pad': 0, 'scoremap_dir': 'test', 'batch_size': 1, 'dataset_type': 'imgaug', 'deterministic': False, 'mirror': False, 'pairwise_huber_loss': False, 'weigh_only_present_joints': False, 'partaffinityfield_predict': False, 'pairwise_predict': False, 'all_joints': [[0], [1], [2]], 'all_joints_names': ['Nose', 'Head', 'Center of Mass'], 'alpha_r': 0.02, 'apply_prob': 0.5, 'clahe': True, 'claheratio': 0.1, 'cropratio': 0.4, 'dataset': 'training-datasets/iteration-0/UnaugmentedDataSet_olfactory-searchDec9/olfactory-search_ReeseFindley95shuffle1.mat', 'decay_steps': 30000, 'display_iters': 1000, 'edge': False, 'emboss': {'alpha': [0.0, 1.0], 'embossratio': 0.1, 'strength': [0.5, 1.5]}, 'histeq': True, 'histeqratio': 0.1, 'init_weights': '/usr/local/lib/python3.7/dist-packages/deeplabcut/pose_estimation_tensorflow/models/pretrained/resnet_v1_50.ckpt', 'lr_init': 0.0005, 'max_input_size': 1500, 'metadataset': 'training-datasets/iteration-0/UnaugmentedDataSet_olfactory-searchDec9/Documentation_data-olfactory-search_95shuffle1.pickle', 'min_input_size': 64, 'multi_stage': False, 'multi_step': [[0.005, 10000], [0.02, 430000], [0.002, 730000], [0.001, 1030000]], 'net_type': 'resnet_50', 'num_joints': 3, 'pos_dist_thresh': 17, 'project_path': '/content/drive/My Drive/dlc-colab/reese-data-test', 'rotation': 25, 'rotratio': 0.4, 'save_iters': 50000, 'scale_jitter_lo': 0.5, 'scale_jitter_up': 1.25, 'sharpen': False, 'sharpenratio': 0.3, 'covering': True, 'elastic_transform': True, 'motion_blur': True, 'motion_blur_params': {'k': 7, 'angle': (-90, 90)}}\n",
            "Starting training....\n"
          ]
        },
        {
          "output_type": "stream",
          "name": "stderr",
          "text": [
            "iteration: 10 loss: 0.2145 lr: 0.005\n",
            "iteration: 20 loss: 0.0512 lr: 0.005\n",
            "iteration: 30 loss: 0.0369 lr: 0.005\n",
            "iteration: 40 loss: 0.0328 lr: 0.005\n",
            "iteration: 50 loss: 0.0240 lr: 0.005\n",
            "iteration: 60 loss: 0.0288 lr: 0.005\n",
            "iteration: 70 loss: 0.0225 lr: 0.005\n",
            "iteration: 80 loss: 0.0230 lr: 0.005\n",
            "iteration: 90 loss: 0.0255 lr: 0.005\n",
            "iteration: 100 loss: 0.0230 lr: 0.005\n",
            "iteration: 110 loss: 0.0215 lr: 0.005\n",
            "iteration: 120 loss: 0.0257 lr: 0.005\n",
            "iteration: 130 loss: 0.0254 lr: 0.005\n",
            "iteration: 140 loss: 0.0185 lr: 0.005\n",
            "iteration: 150 loss: 0.0223 lr: 0.005\n",
            "iteration: 160 loss: 0.0211 lr: 0.005\n",
            "iteration: 170 loss: 0.0223 lr: 0.005\n",
            "iteration: 180 loss: 0.0213 lr: 0.005\n",
            "iteration: 190 loss: 0.0244 lr: 0.005\n",
            "iteration: 200 loss: 0.0187 lr: 0.005\n",
            "iteration: 210 loss: 0.0231 lr: 0.005\n",
            "iteration: 220 loss: 0.0207 lr: 0.005\n",
            "iteration: 230 loss: 0.0225 lr: 0.005\n",
            "iteration: 240 loss: 0.0207 lr: 0.005\n",
            "iteration: 250 loss: 0.0170 lr: 0.005\n",
            "iteration: 260 loss: 0.0214 lr: 0.005\n",
            "iteration: 270 loss: 0.0174 lr: 0.005\n",
            "iteration: 280 loss: 0.0215 lr: 0.005\n",
            "iteration: 290 loss: 0.0176 lr: 0.005\n",
            "iteration: 300 loss: 0.0208 lr: 0.005\n",
            "iteration: 310 loss: 0.0208 lr: 0.005\n",
            "iteration: 320 loss: 0.0252 lr: 0.005\n",
            "iteration: 330 loss: 0.0204 lr: 0.005\n",
            "iteration: 340 loss: 0.0195 lr: 0.005\n",
            "iteration: 350 loss: 0.0210 lr: 0.005\n",
            "iteration: 360 loss: 0.0209 lr: 0.005\n",
            "iteration: 370 loss: 0.0191 lr: 0.005\n",
            "iteration: 380 loss: 0.0210 lr: 0.005\n",
            "iteration: 390 loss: 0.0240 lr: 0.005\n",
            "iteration: 400 loss: 0.0191 lr: 0.005\n",
            "iteration: 410 loss: 0.0196 lr: 0.005\n",
            "iteration: 420 loss: 0.0168 lr: 0.005\n",
            "iteration: 430 loss: 0.0208 lr: 0.005\n",
            "iteration: 440 loss: 0.0198 lr: 0.005\n",
            "iteration: 450 loss: 0.0142 lr: 0.005\n",
            "iteration: 460 loss: 0.0219 lr: 0.005\n",
            "iteration: 470 loss: 0.0200 lr: 0.005\n",
            "iteration: 480 loss: 0.0203 lr: 0.005\n",
            "iteration: 490 loss: 0.0183 lr: 0.005\n",
            "iteration: 500 loss: 0.0166 lr: 0.005\n"
          ]
        },
        {
          "output_type": "stream",
          "name": "stdout",
          "text": [
            "The network is now trained and ready to evaluate. Use the function 'evaluate_network' to evaluate the network.\n"
          ]
        },
        {
          "output_type": "stream",
          "name": "stderr",
          "text": [
            "Exception in thread Thread-13:\n",
            "Traceback (most recent call last):\n",
            "  File \"/usr/lib/python3.7/threading.py\", line 926, in _bootstrap_inner\n",
            "    self.run()\n",
            "  File \"/usr/lib/python3.7/threading.py\", line 870, in run\n",
            "    self._target(*self._args, **self._kwargs)\n",
            "  File \"/usr/local/lib/python3.7/dist-packages/deeplabcut/pose_estimation_tensorflow/core/train.py\", line 83, in load_and_enqueue\n",
            "    sess.run(enqueue_op, feed_dict=food)\n",
            "  File \"/usr/local/lib/python3.7/dist-packages/tensorflow/python/client/session.py\", line 968, in run\n",
            "    run_metadata_ptr)\n",
            "  File \"/usr/local/lib/python3.7/dist-packages/tensorflow/python/client/session.py\", line 1115, in _run\n",
            "    raise RuntimeError('Attempted to use a closed Session.')\n",
            "RuntimeError: Attempted to use a closed Session.\n",
            "\n"
          ]
        }
      ]
    },
    {
      "cell_type": "markdown",
      "source": [
        "Evaluate"
      ],
      "metadata": {
        "id": "dWmdkUZ1BMeX"
      }
    },
    {
      "cell_type": "code",
      "source": [
        "deeplabcut.evaluate_network(path_config_file,Shuffles=[SHUF], plotting=False)"
      ],
      "metadata": {
        "id": "3xUK2gmNBU7d",
        "colab": {
          "base_uri": "https://localhost:8080/"
        },
        "outputId": "a8a43b11-0d0f-4422-8c8c-2d4245ec6965"
      },
      "execution_count": null,
      "outputs": [
        {
          "output_type": "stream",
          "name": "stderr",
          "text": [
            "Config:\n",
            "{'all_joints': [[0], [1], [2]],\n",
            " 'all_joints_names': ['Nose', 'Head', 'Center of Mass'],\n",
            " 'batch_size': 1,\n",
            " 'crop_pad': 0,\n",
            " 'dataset': 'training-datasets/iteration-0/UnaugmentedDataSet_olfactory-searchDec9/olfactory-search_ReeseFindley95shuffle1.mat',\n",
            " 'dataset_type': 'imgaug',\n",
            " 'deterministic': False,\n",
            " 'fg_fraction': 0.25,\n",
            " 'global_scale': 0.8,\n",
            " 'init_weights': '/usr/local/lib/python3.7/dist-packages/deeplabcut/pose_estimation_tensorflow/models/pretrained/resnet_v1_50.ckpt',\n",
            " 'intermediate_supervision': False,\n",
            " 'intermediate_supervision_layer': 12,\n",
            " 'location_refinement': True,\n",
            " 'locref_huber_loss': True,\n",
            " 'locref_loss_weight': 1.0,\n",
            " 'locref_stdev': 7.2801,\n",
            " 'log_dir': 'log',\n",
            " 'mean_pixel': [123.68, 116.779, 103.939],\n",
            " 'mirror': False,\n",
            " 'net_type': 'resnet_50',\n",
            " 'num_joints': 3,\n",
            " 'optimizer': 'sgd',\n",
            " 'pairwise_huber_loss': True,\n",
            " 'pairwise_predict': False,\n",
            " 'partaffinityfield_predict': False,\n",
            " 'regularize': False,\n",
            " 'scoremap_dir': 'test',\n",
            " 'shuffle': True,\n",
            " 'snapshot_prefix': '/content/drive/My '\n",
            "                    'Drive/dlc-colab/reese-data-test/dlc-models/iteration-0/olfactory-searchDec9-trainset95shuffle1/test/snapshot',\n",
            " 'stride': 8.0,\n",
            " 'weigh_negatives': False,\n",
            " 'weigh_only_present_joints': False,\n",
            " 'weigh_part_predictions': False,\n",
            " 'weight_decay': 0.0001}\n",
            "/usr/local/lib/python3.7/dist-packages/tensorflow/python/keras/engine/base_layer_v1.py:1694: UserWarning: `layer.apply` is deprecated and will be removed in a future version. Please use `layer.__call__` method instead.\n",
            "  warnings.warn('`layer.apply` is deprecated and '\n",
            "/usr/local/lib/python3.7/dist-packages/tf_slim/layers/layers.py:684: UserWarning: `layer.apply` is deprecated and will be removed in a future version. Please use `layer.__call__` method instead.\n",
            "  outputs = layer.apply(inputs, training=is_training)\n"
          ]
        },
        {
          "output_type": "stream",
          "name": "stdout",
          "text": [
            "Running  DLC_resnet50_olfactory-searchDec9shuffle1_500  with # of training iterations: 500\n",
            "Running evaluation ...\n"
          ]
        },
        {
          "output_type": "stream",
          "name": "stderr",
          "text": [
            "175it [00:29,  5.95it/s]\n"
          ]
        },
        {
          "output_type": "stream",
          "name": "stdout",
          "text": [
            "Analysis is done and the results are stored (see evaluation-results) for snapshot:  snapshot-500\n",
            "Results for 500  training iterations: 95 1 train error: 74.8 pixels. Test error: 67.41  pixels.\n",
            "With pcutoff of 0.6  train error: nan pixels. Test error: nan pixels\n",
            "Thereby, the errors are given by the average distances between the labels by DLC and the scorer.\n",
            "The network is evaluated and the results are stored in the subdirectory 'evaluation_results'.\n",
            "Please check the results, then choose the best model (snapshot) for prediction. You can update the config.yaml file with the appropriate index for the 'snapshotindex'.\n",
            "Use the function 'analyze_video' to make predictions on new videos.\n",
            "Otherwise, consider adding more labeled-data and retraining the network (see DeepLabCut workflow Fig 2, Nath 2019)\n"
          ]
        },
        {
          "output_type": "stream",
          "name": "stderr",
          "text": [
            "/usr/local/lib/python3.7/dist-packages/deeplabcut/pose_estimation_tensorflow/core/evaluate.py:852: RuntimeWarning: Mean of empty slice\n",
            "  RMSEpcutoff.iloc[testIndices].values.flatten()\n",
            "/usr/local/lib/python3.7/dist-packages/deeplabcut/pose_estimation_tensorflow/core/evaluate.py:855: RuntimeWarning: Mean of empty slice\n",
            "  RMSEpcutoff.iloc[trainIndices].values.flatten()\n"
          ]
        }
      ]
    },
    {
      "cell_type": "markdown",
      "source": [
        "Analyze"
      ],
      "metadata": {
        "id": "VEi6mj5jBYWW"
      }
    },
    {
      "cell_type": "code",
      "source": [
        "deeplabcut.analyze_videos(path_config_file, videofile_path, videotype=VideoType, shuffle=SHUF)"
      ],
      "metadata": {
        "id": "IB6DrJqeBZoO",
        "colab": {
          "base_uri": "https://localhost:8080/"
        },
        "outputId": "cf9f42a6-102b-40c7-c843-500b999288b8"
      },
      "execution_count": null,
      "outputs": [
        {
          "output_type": "stream",
          "name": "stderr",
          "text": [
            "Config:\n",
            "{'all_joints': [[0], [1], [2]],\n",
            " 'all_joints_names': ['Nose', 'Head', 'Center of Mass'],\n",
            " 'batch_size': 1,\n",
            " 'crop_pad': 0,\n",
            " 'dataset': 'training-datasets/iteration-0/UnaugmentedDataSet_olfactory-searchDec9/olfactory-search_ReeseFindley95shuffle1.mat',\n",
            " 'dataset_type': 'imgaug',\n",
            " 'deterministic': False,\n",
            " 'fg_fraction': 0.25,\n",
            " 'global_scale': 0.8,\n",
            " 'init_weights': '/usr/local/lib/python3.7/dist-packages/deeplabcut/pose_estimation_tensorflow/models/pretrained/resnet_v1_50.ckpt',\n",
            " 'intermediate_supervision': False,\n",
            " 'intermediate_supervision_layer': 12,\n",
            " 'location_refinement': True,\n",
            " 'locref_huber_loss': True,\n",
            " 'locref_loss_weight': 1.0,\n",
            " 'locref_stdev': 7.2801,\n",
            " 'log_dir': 'log',\n",
            " 'mean_pixel': [123.68, 116.779, 103.939],\n",
            " 'mirror': False,\n",
            " 'net_type': 'resnet_50',\n",
            " 'num_joints': 3,\n",
            " 'optimizer': 'sgd',\n",
            " 'pairwise_huber_loss': True,\n",
            " 'pairwise_predict': False,\n",
            " 'partaffinityfield_predict': False,\n",
            " 'regularize': False,\n",
            " 'scoremap_dir': 'test',\n",
            " 'shuffle': True,\n",
            " 'snapshot_prefix': '/content/drive/My '\n",
            "                    'Drive/dlc-colab/reese-data-test/dlc-models/iteration-0/olfactory-searchDec9-trainset95shuffle1/test/snapshot',\n",
            " 'stride': 8.0,\n",
            " 'weigh_negatives': False,\n",
            " 'weigh_only_present_joints': False,\n",
            " 'weigh_part_predictions': False,\n",
            " 'weight_decay': 0.0001}\n",
            "/usr/local/lib/python3.7/dist-packages/tensorflow/python/keras/engine/base_layer_v1.py:1694: UserWarning: `layer.apply` is deprecated and will be removed in a future version. Please use `layer.__call__` method instead.\n",
            "  warnings.warn('`layer.apply` is deprecated and '\n",
            "/usr/local/lib/python3.7/dist-packages/tf_slim/layers/layers.py:684: UserWarning: `layer.apply` is deprecated and will be removed in a future version. Please use `layer.__call__` method instead.\n",
            "  outputs = layer.apply(inputs, training=is_training)\n"
          ]
        },
        {
          "output_type": "stream",
          "name": "stdout",
          "text": [
            "Using snapshot-500 for model /content/drive/My Drive/dlc-colab/reese-data-test/dlc-models/iteration-0/olfactory-searchDec9-trainset95shuffle1\n",
            "Analyzing all the videos in the directory...\n",
            "Starting to analyze %  /content/drive/My Drive/dlc-colab/reese-data-test/videos/rawvideo2018-08-29T12_34_11.avi\n",
            "Loading  /content/drive/My Drive/dlc-colab/reese-data-test/videos/rawvideo2018-08-29T12_34_11.avi\n",
            "Duration of video [s]:  2407.46 , recorded with  80.0 fps!\n",
            "Overall # of frames:  192597  found with (before cropping) frame dimensions:  1184 696\n",
            "Starting to extract posture\n"
          ]
        },
        {
          "output_type": "stream",
          "name": "stderr",
          "text": [
            "100%|█████████▉| 192500/192597 [1:49:23<00:03, 29.33it/s]\n"
          ]
        },
        {
          "output_type": "stream",
          "name": "stdout",
          "text": [
            "Saving results in /content/drive/My Drive/dlc-colab/reese-data-test/videos...\n",
            "The videos are analyzed. Now your research can truly start! \n",
            " You can create labeled videos with 'create_labeled_video'\n",
            "If the tracking is not satisfactory for some videos, consider expanding the training set. You can use the function 'extract_outlier_frames' to extract a few representative outlier frames.\n"
          ]
        },
        {
          "output_type": "execute_result",
          "data": {
            "text/plain": [
              "'DLC_resnet50_olfactory-searchDec9shuffle1_500'"
            ],
            "application/vnd.google.colaboratory.intrinsic+json": {
              "type": "string"
            }
          },
          "metadata": {},
          "execution_count": 11
        }
      ]
    },
    {
      "cell_type": "markdown",
      "source": [
        "Smooth"
      ],
      "metadata": {
        "id": "NBMbwkbTBeHO"
      }
    },
    {
      "cell_type": "code",
      "source": [
        "deeplabcut.filterpredictions(path_config_file, videofile_path, videotype=VideoType, shuffle=SHUF)"
      ],
      "metadata": {
        "id": "gBt-IjguBb5N",
        "colab": {
          "base_uri": "https://localhost:8080/"
        },
        "outputId": "1b28279b-20a1-4356-bba0-944f5034ebf7"
      },
      "execution_count": null,
      "outputs": [
        {
          "output_type": "stream",
          "name": "stdout",
          "text": [
            "Analyzing all the videos in the directory...\n",
            "Filtering with median model /content/drive/My Drive/dlc-colab/reese-data-test/videos/rawvideo2018-08-29T12_34_11.avi\n",
            "Saving filtered csv poses!\n"
          ]
        }
      ]
    },
    {
      "cell_type": "markdown",
      "source": [
        "Plot Trajectories"
      ],
      "metadata": {
        "id": "erZDJAtJBg6O"
      }
    },
    {
      "cell_type": "code",
      "source": [
        "import matplotlib\n",
        "deeplabcut.plot_trajectories(path_config_file, videofile_path, videotype=VideoType, shuffle=SHUF, filtered=True)"
      ],
      "metadata": {
        "id": "bgoEuDHTBisd",
        "colab": {
          "base_uri": "https://localhost:8080/"
        },
        "outputId": "59e9e711-3fd6-43c6-d202-52660b0215ce"
      },
      "execution_count": null,
      "outputs": [
        {
          "output_type": "stream",
          "name": "stdout",
          "text": [
            "Analyzing all the videos in the directory...\n",
            "Loading  /content/drive/My Drive/dlc-colab/reese-data-test/videos/rawvideo2018-08-29T12_34_11.avi and data.\n",
            "Plots created! Please check the directory \"plot-poses\" within the video directory\n"
          ]
        }
      ]
    },
    {
      "cell_type": "markdown",
      "source": [
        "Create Labeled Video\n"
      ],
      "metadata": {
        "id": "Wh1EdE4KBlQ2"
      }
    },
    {
      "cell_type": "code",
      "source": [
        "deeplabcut.create_labeled_video(path_config_file,videofile_path, videotype=VideoType, shuffle=SHUF, filtered=True)"
      ],
      "metadata": {
        "id": "4UNLzhWpBkqd",
        "colab": {
          "base_uri": "https://localhost:8080/"
        },
        "outputId": "b9016947-4195-4131-9c60-5cd580f6d017"
      },
      "execution_count": null,
      "outputs": [
        {
          "output_type": "stream",
          "name": "stdout",
          "text": [
            "Analyzing all the videos in the directory...\n",
            "Starting to process video: /content/drive/My Drive/dlc-colab/reese-data-test/videos/rawvideo2018-08-29T12_34_11.avi\n",
            "Loading /content/drive/My Drive/dlc-colab/reese-data-test/videos/rawvideo2018-08-29T12_34_11.avi and data.\n",
            "Duration of video [s]: 2407.46, recorded with 80.0 fps!\n",
            "Overall # of frames: 192597 with cropped frame dimensions: 1184 696\n",
            "Generating frames and creating video.\n"
          ]
        },
        {
          "output_type": "stream",
          "name": "stderr",
          "text": [
            "100%|██████████| 192597/192597 [25:16<00:00, 126.96it/s]\n"
          ]
        }
      ]
    }
  ]
}